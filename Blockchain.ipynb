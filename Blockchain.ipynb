{
  "nbformat": 4,
  "nbformat_minor": 0,
  "metadata": {
    "colab": {
      "provenance": []
    },
    "kernelspec": {
      "name": "python3",
      "display_name": "Python 3"
    },
    "language_info": {
      "name": "python"
    }
  },
  "cells": [
    {
      "cell_type": "code",
      "source": [
        "import hashlib\n",
        "\n",
        "class MerkleTree:\n",
        "    def __init__(self, transactions):\n",
        "        self.transactions = transactions\n",
        "        self.tree = self.build_tree()\n",
        "\n",
        "    def build_tree(self):\n",
        "        if len(self.transactions) % 2 != 0:\n",
        "            self.transactions.append(self.transactions[-1])  # Duplicate last transaction if odd number\n",
        "\n",
        "        tree = [None] * (2 * len(self.transactions) - 1)\n",
        "\n",
        "        # Hash leaves\n",
        "        for i in range(len(self.transactions)):\n",
        "            tree[i + len(self.transactions) - 1] = hashlib.sha256(self.transactions[i].encode()).hexdigest()\n",
        "\n",
        "        # Build tree upwards\n",
        "        for i in range(len(self.transactions) - 2, -1, -1):\n",
        "            left_child = tree[2 * i + 1]\n",
        "            right_child = tree[2 * i + 2]\n",
        "            tree[i] = hashlib.sha256((left_child + right_child).encode()).hexdigest()\n",
        "\n",
        "        return tree\n",
        "\n",
        "    def get_root(self):\n",
        "        return self.tree[0]\n"
      ],
      "metadata": {
        "id": "02KnEW_fiQQS"
      },
      "execution_count": 10,
      "outputs": []
    },
    {
      "cell_type": "code",
      "source": [
        "import time\n",
        "\n",
        "class Block:\n",
        "    def __init__(self, previous_hash, transactions, coinbase, difficulty):\n",
        "        self.previous_hash = previous_hash\n",
        "        self.transactions = transactions\n",
        "        self.coinbase = coinbase  # Reward transaction\n",
        "        self.merkle_root = self.calculate_merkle_root()\n",
        "        self.nonce = 0\n",
        "        self.timestamp = time.time()\n",
        "        self.difficulty = difficulty\n",
        "        self.hash = self.mine_block()\n",
        "\n",
        "    def calculate_merkle_root(self):\n",
        "        # Include coinbase transaction in the Merkle tree\n",
        "        all_transactions = [self.coinbase] + self.transactions\n",
        "        merkle_tree = MerkleTree(all_transactions)\n",
        "        return merkle_tree.get_root()\n",
        "\n",
        "    def hash_block(self):\n",
        "        # Combine block header attributes and return the hash\n",
        "        block_header = (self.previous_hash + self.merkle_root + str(self.nonce) + str(self.timestamp)).encode()\n",
        "        return hashlib.sha256(block_header).hexdigest()\n",
        "\n",
        "    def mine_block(self):\n",
        "        while True:\n",
        "            hash_value = self.hash_block()\n",
        "            if hash_value[:self.difficulty] == '0' * self.difficulty:\n",
        "                return hash_value\n",
        "            self.nonce += 1\n",
        "\n",
        "    def print_block(self):\n",
        "        print(f\"Block Hash: {self.hash}\")\n",
        "        print(f\"Previous Hash: {self.previous_hash}\")\n",
        "        print(f\"Merkle Root: {self.merkle_root}\")\n",
        "        print(f\"Nonce: {self.nonce}\")\n",
        "        print(f\"Transactions: {self.transactions}\")\n",
        "        print(f\"Coinbase: {self.coinbase}\\n\")\n"
      ],
      "metadata": {
        "id": "Fvkp-OpMXPtx"
      },
      "execution_count": 11,
      "outputs": []
    },
    {
      "cell_type": "code",
      "source": [
        "class Blockchain:\n",
        "    def __init__(self, difficulty=4):\n",
        "        self.chain = []\n",
        "        self.difficulty = difficulty\n",
        "        self.create_genesis_block()\n",
        "\n",
        "    def create_genesis_block(self):\n",
        "        # Create the genesis block with a coinbase transaction\n",
        "        genesis_block = Block(\"0\" * 64, [], \"Genesis Block Reward\", self.difficulty)\n",
        "        self.chain.append(genesis_block)\n",
        "\n",
        "    def add_block(self, transactions, coinbase):\n",
        "        previous_hash = self.chain[-1].hash\n",
        "        new_block = Block(previous_hash, transactions, coinbase, self.difficulty)\n",
        "        self.chain.append(new_block)\n",
        "\n",
        "    def validate_transactions(self, transactions):\n",
        "        # Basic validation: Ensure transactions are non-empty and unique\n",
        "        for transaction in transactions:\n",
        "            if len(transaction) == 0:\n",
        "                return False\n",
        "            if any(transaction == block.transactions for block in self.chain):\n",
        "                return False\n",
        "        return True\n",
        "\n",
        "    def print_chain(self):\n",
        "        for block in self.chain:\n",
        "            block.print_block()\n"
      ],
      "metadata": {
        "id": "P95Z8Lx9XRZa"
      },
      "execution_count": 12,
      "outputs": []
    },
    {
      "cell_type": "code",
      "source": [
        "# Crear la blockchain y agregar bloques\n",
        "blockchain = Blockchain(difficulty=4)\n",
        "\n",
        "# Añadir bloques con transacciones válidas\n",
        "if blockchain.validate_transactions([\"tx1\", \"tx2\"]):\n",
        "    blockchain.add_block([\"tx1\", \"tx2\"], \"Miner's Reward\")\n",
        "\n",
        "if blockchain.validate_transactions([\"tx3\", \"tx4\"]):\n",
        "    blockchain.add_block([\"tx3\", \"tx4\"], \"Miner's Reward\")\n",
        "\n",
        "# Imprimir la cadena completa\n",
        "blockchain.print_chain()\n"
      ],
      "metadata": {
        "colab": {
          "base_uri": "https://localhost:8080/"
        },
        "id": "GHLDLnjqXT20",
        "outputId": "bd320c76-238b-45d4-c948-4edff509cf94"
      },
      "execution_count": 13,
      "outputs": [
        {
          "output_type": "stream",
          "name": "stdout",
          "text": [
            "Block Hash: 00002a890509564973db947a193d2c71b5c00e34b03130e2b6c80242ab384130\n",
            "Previous Hash: 0000000000000000000000000000000000000000000000000000000000000000\n",
            "Merkle Root: 234f4561d66e746ff6bc41afd3824853cbedbd2c58cc3c161aef295cf6865ad6\n",
            "Nonce: 39060\n",
            "Transactions: []\n",
            "Coinbase: Genesis Block Reward\n",
            "\n",
            "Block Hash: 0000dbc7ffe03a37b74748d482c04f729eebd0cb35019c50ca550b68897bab59\n",
            "Previous Hash: 00002a890509564973db947a193d2c71b5c00e34b03130e2b6c80242ab384130\n",
            "Merkle Root: cec4c7dd5220d777fb2a6e3860bd193f7fba881821ac253a0c44b1dd11b59254\n",
            "Nonce: 25573\n",
            "Transactions: ['tx1', 'tx2']\n",
            "Coinbase: Miner's Reward\n",
            "\n",
            "Block Hash: 0000200c0ee5dbccfe44cbaf454781dca7a0fea3690689190e1f058b0253a674\n",
            "Previous Hash: 0000dbc7ffe03a37b74748d482c04f729eebd0cb35019c50ca550b68897bab59\n",
            "Merkle Root: 05970d76c29f3604baa42e41a54e18bc090730aa8e92f07627c68ed967913c17\n",
            "Nonce: 7892\n",
            "Transactions: ['tx3', 'tx4']\n",
            "Coinbase: Miner's Reward\n",
            "\n"
          ]
        }
      ]
    },
    {
      "cell_type": "code",
      "source": [],
      "metadata": {
        "id": "dyXD9FlvXXa1"
      },
      "execution_count": null,
      "outputs": []
    }
  ]
}